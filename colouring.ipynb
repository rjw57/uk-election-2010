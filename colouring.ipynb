{
 "metadata": {
  "name": "colouring"
 },
 "nbformat": 3,
 "nbformat_minor": 0,
 "worksheets": [
  {
   "cells": [
    {
     "cell_type": "markdown",
     "metadata": {},
     "source": [
      "# Colouring via barycentric co-ordinates\n",
      "\n",
      "We will assign each constituency a colour within the 3D tetrahedral simplex in RGB space. The tetrahedron has vertices $r_{1 \\cdots 4}$ with corresponding barycentric co-ordinates $\\lambda_1 = (1,0,0,0), \\lambda_2 = (0,1,0,0)$ , etc."
     ]
    },
    {
     "cell_type": "code",
     "collapsed": false,
     "input": [
      "import numpy as np"
     ],
     "language": "python",
     "metadata": {},
     "outputs": [],
     "prompt_number": 2
    },
    {
     "cell_type": "code",
     "collapsed": false,
     "input": [
      "lab = [255,0,0]     # r1\n",
      "con = [0,0,255]     # r2\n",
      "ld = [255,255,0]    # r3\n",
      "other = [0,255,0]   # r4\n",
      "\n",
      "# Rows of r give vectors\n",
      "r = np.array([lab, con, ld, other])"
     ],
     "language": "python",
     "metadata": {},
     "outputs": [],
     "prompt_number": 17
    },
    {
     "cell_type": "code",
     "collapsed": false,
     "input": [
      "# Columns of T give delta vectors from r4:\n",
      "Ttrans = np.array([r[0] - r[3], r[1] - r[3], r[2] - r[3]])"
     ],
     "language": "python",
     "metadata": {},
     "outputs": [],
     "prompt_number": 29
    },
    {
     "cell_type": "markdown",
     "metadata": {},
     "source": [
      "Barycentric co-ord is given by $T^{-1}$ hence $T [\\lambda_1 \\, \\lambda_2 \\, \\lambda_3]^T = (r - r_4)$."
     ]
    },
    {
     "cell_type": "code",
     "collapsed": false,
     "input": [
      "Ttrans"
     ],
     "language": "python",
     "metadata": {},
     "outputs": [
      {
       "output_type": "pyout",
       "prompt_number": 36,
       "text": [
        "array([[ 255, -255,    0],\n",
        "       [   0, -255,  255],\n",
        "       [ 255,    0,    0]])"
       ]
      }
     ],
     "prompt_number": 36
    },
    {
     "cell_type": "code",
     "collapsed": false,
     "input": [
      "# Test: lab, con, ld, other\n",
      "print 'lab', np.array([1,0,0]).dot(Ttrans) + other\n",
      "print 'con', np.array([0,1,0]).dot(Ttrans) + other\n",
      "print ' ld', np.array([0,0,1]).dot(Ttrans) + other\n",
      "print 'oth', np.array([0,0,0]).dot(Ttrans) + other"
     ],
     "language": "python",
     "metadata": {},
     "outputs": [
      {
       "output_type": "stream",
       "stream": "stdout",
       "text": [
        "lab [255   0   0]\n",
        "con [  0   0 255]\n",
        " ld [255 255   0]\n",
        "oth [  0 255   0]\n"
       ]
      }
     ],
     "prompt_number": 39
    },
    {
     "cell_type": "code",
     "collapsed": false,
     "input": [],
     "language": "python",
     "metadata": {},
     "outputs": []
    }
   ],
   "metadata": {}
  }
 ]
}